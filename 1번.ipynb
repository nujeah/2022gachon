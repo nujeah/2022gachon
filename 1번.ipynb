{
  "nbformat": 4,
  "nbformat_minor": 0,
  "metadata": {
    "colab": {
      "name": "Untitled6.ipynb의 사본",
      "provenance": [],
      "collapsed_sections": [],
      "authorship_tag": "ABX9TyNvQtNHFrxma2yeuAum8ZdR",
      "include_colab_link": true
    },
    "kernelspec": {
      "name": "python3",
      "display_name": "Python 3"
    },
    "language_info": {
      "name": "python"
    }
  },
  "cells": [
    {
      "cell_type": "markdown",
      "metadata": {
        "id": "view-in-github",
        "colab_type": "text"
      },
      "source": [
        "<a href=\"https://colab.research.google.com/github/nujeah/2022gachon/blob/main/1%EB%B2%88.ipynb\" target=\"_parent\"><img src=\"https://colab.research.google.com/assets/colab-badge.svg\" alt=\"Open In Colab\"/></a>"
      ]
    },
    {
      "cell_type": "code",
      "execution_count": null,
      "metadata": {
        "id": "dOQs3siNDo0L"
      },
      "outputs": [],
      "source": [
        "!sudo apt-get install -y fonts-nanum\n",
        "!sudo fc-cache -fv\n",
        "!rm ~/.cache/matplotlib -rf\n",
        "import matplotlib.pyplot as plt\n",
        "plt.rc('font', family='NanumBarunGothic')\n",
        "\n",
        "import cv2\n",
        "img = cv2.imread('dog.jpg')\n",
        "\n",
        "\n",
        "laplacian = cv2.Laplacian(img, cv2.CV_8U)\n",
        "\n",
        "plt.figure(figsize=(15, 7))\n",
        "\n",
        "plt.subplot(2, 2, 1)\n",
        "plt.imshow(img, cmap='gray')\n",
        "plt.title('Original')\n",
        "plt.axis(\"off\")\n",
        "\n",
        "plt.subplot(2, 2, 2)\n",
        "plt.imshow(laplacian, cmap='gray')\n",
        "plt.title('Laplacian')\n",
        "plt.axis(\"off\")\n",
        "\n",
        "plt.tight_layout()\n",
        "plt.show()"
      ]
    }
  ]
}